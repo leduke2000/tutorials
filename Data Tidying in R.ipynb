{
 "cells": [
  {
   "cell_type": "markdown",
   "metadata": {
    "collapsed": true
   },
   "source": [
    "# Data Tidying (and a bit more) in R\n",
    "## by Diya Das and Andrey Indukaev\n",
    "\n",
    "### The goal\n",
    "Data tidying is a necessary first step for data analysis - it's the process of taking your messily formatted data (missing values, unwieldy coding/organization, etc.) and literally tidying it up so it can be easily used for downstream analyses. To quote Hadley Wickham, \"Tidy datasets are easy to manipulate, model and visualise, and have a specific structure:\n",
    "each variable is a column, each observation is a row, and each type of observational unit\n",
    "is a table.\"\n",
    "\n",
    "### The datasets\n",
    "We are going to be using the data from the R package [`nycflights13`](https://cran.r-project.org/web/packages/nycflights13/nycflights13.pdf). There are five datasets corresponding to flights departing NYC in 2013. We will load directly into R from the library, but the repository also includes CSV files we created for the purposes of the Python demo and can also be used to load the data into our R session.\n",
    "\n",
    "### But the data are tidy!\n",
    "So we're going to start by making them a bit untidy. And then we're also going to teach you to do basic manipulations/operations to get statistics that can be used for downstream operations (a bit more than tidying)."
   ]
  },
  {
   "cell_type": "code",
   "execution_count": 21,
   "metadata": {
    "collapsed": false
   },
   "outputs": [],
   "source": [
    "#install.packages(c('nycflights13','dplyr'), repos='http://cran.us.r-project.org')\n",
    "pckgsToLoad <- c('nycflights13','dplyr')\n",
    "invisible(lapply(pckgsToLoad, require, character.only = TRUE, quietly = T))"
   ]
  },
  {
   "cell_type": "markdown",
   "metadata": {},
   "source": [
    "### Summary statistics with dplyr and piping\n",
    "Blah Blah Blah"
   ]
  },
  {
   "cell_type": "code",
   "execution_count": 22,
   "metadata": {
    "collapsed": false
   },
   "outputs": [
    {
     "data": {
      "text/html": [
       "<table>\n",
       "<thead><tr><th></th><th scope=col>origin</th><th scope=col>avgDepDelay</th></tr></thead>\n",
       "<tbody>\n",
       "\t<tr><th scope=row>1</th><td>EWR</td><td>15.10795</td></tr>\n",
       "\t<tr><th scope=row>2</th><td>JFK</td><td>12.11216</td></tr>\n",
       "\t<tr><th scope=row>3</th><td>LGA</td><td>10.34688</td></tr>\n",
       "</tbody>\n",
       "</table>\n"
      ],
      "text/latex": [
       "\\begin{tabular}{r|ll}\n",
       "  & origin & avgDepDelay\\\\\n",
       "\\hline\n",
       "\t1 & EWR & 15.10795\\\\\n",
       "\t2 & JFK & 12.11216\\\\\n",
       "\t3 & LGA & 10.34688\\\\\n",
       "\\end{tabular}\n"
      ],
      "text/plain": [
       "Source: local data frame [3 x 2]\n",
       "\n",
       "  origin avgDepDelay\n",
       "   (chr)       (dbl)\n",
       "1    EWR    15.10795\n",
       "2    JFK    12.11216\n",
       "3    LGA    10.34688"
      ]
     },
     "execution_count": 22,
     "metadata": {},
     "output_type": "execute_result"
    }
   ],
   "source": [
    "flights %>% group_by(origin) %>%\n",
    "  summarise(avgDepDelay = mean(dep_delay, na.rm = TRUE)) %>%\n",
    "  arrange(desc(avgDepDelay)) "
   ]
  },
  {
   "cell_type": "code",
   "execution_count": null,
   "metadata": {
    "collapsed": true
   },
   "outputs": [],
   "source": []
  }
 ],
 "metadata": {
  "anaconda-cloud": {},
  "kernelspec": {
   "display_name": "R",
   "language": "R",
   "name": "ir"
  },
  "language_info": {
   "codemirror_mode": "r",
   "file_extension": ".r",
   "mimetype": "text/x-r-source",
   "name": "R",
   "pygments_lexer": "r",
   "version": "3.1.3"
  }
 },
 "nbformat": 4,
 "nbformat_minor": 0
}
