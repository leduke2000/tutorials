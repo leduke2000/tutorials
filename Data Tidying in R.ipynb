{
 "cells": [
  {
   "cell_type": "markdown",
   "metadata": {
    "collapsed": true
   },
   "source": [
    "# Data Tidying (and a bit more) in R\n",
    "## by Diya Das and Andrey Indukaev\n",
    "\n",
    "### The goal\n",
    "Data tidying is a necessary first step for data analysis - it's the process of taking your messily formatted data (missing values, unwieldy coding/organization, etc.) and literally tidying it up so it can be easily used for downstream analyses. To quote Hadley Wickham, \"Tidy datasets are easy to manipulate, model and visualise, and have a specific structure:\n",
    "each variable is a column, each observation is a row, and each type of observational unit\n",
    "is a table.\"\n",
    "\n",
    "### The datasets\n",
    "We are going to be using the data from the R package [`nycflights13`](https://cran.r-project.org/web/packages/nycflights13/nycflights13.pdf). There are five datasets corresponding to flights departing NYC in 2013. We will load directly into R from the library, but the repository also includes CSV files we created for the purposes of the Python demo and can also be used to load the data into our R session.\n",
    "\n",
    "### But the data are tidy!\n",
    "So we're going to start by making them a bit untidy. And then we're also going to teach you to do basic manipulations/operations to get statistics that can be used for downstream operations (a bit more than tidying)."
   ]
  },
  {
   "cell_type": "code",
   "execution_count": 2,
   "metadata": {
    "collapsed": false
   },
   "outputs": [],
   "source": [
    "#shall we install and load all the packages somewhere here?\n",
    "#install.packages(c('nycflights13','dplyr','data.table'), repos='http://cran.us.r-project.org')\n",
    "pckgsToLoad <- c('nycflights13','dplyr','data.table')\n",
    "invisible(lapply(pckgsToLoad, require, character.only = TRUE, quietly = T))"
   ]
  },
  {
   "cell_type": "markdown",
   "metadata": {},
   "source": [
    "### Merging data frames: the outline of the logic and basic R functions\n",
    "\n",
    "Combining different datasets seems to be an operation that is quite often required, and R provides a few tools to do that, often there are many ways of doing smth one want to have done.\n",
    "Adding new rows or joining data frames \"vertically\" may be seen as merging and is for sure quite often used.\n",
    "This may be done with ``rbind`` function. Here is kind of artificial exemple - let's create a data frame with information on flights by United Airlines and Amercian Airlines only, by creating two data frames via subsetting data about each airline one by one and then merging."
   ]
  },
  {
   "cell_type": "code",
   "execution_count": 4,
   "metadata": {
    "collapsed": false
   },
   "outputs": [
    {
     "data": {
      "text/html": [
       "117330"
      ],
      "text/latex": [
       "117330"
      ],
      "text/markdown": [
       "117330"
      ],
      "text/plain": [
       "[1] 117330"
      ]
     },
     "execution_count": 4,
     "metadata": {},
     "output_type": "execute_result"
    },
    {
     "data": {
      "text/html": [
       "117330"
      ],
      "text/latex": [
       "117330"
      ],
      "text/markdown": [
       "117330"
      ],
      "text/plain": [
       "[1] 117330"
      ]
     },
     "execution_count": 4,
     "metadata": {},
     "output_type": "execute_result"
    }
   ],
   "source": [
    "flightsUA <- flights[flights$carrier == 'UA',]\n",
    "flightsAA <- flights[flights$carrier == 'UA',]\n",
    "nrow(flightsUA) + nrow(flightsUA)\n",
    "fligthsUAandAA <- rbind(flightsUA,flightsAA)\n",
    "nrow(fligthsUAandAA)"
   ]
  },
  {
   "cell_type": "markdown",
   "metadata": {},
   "source": [
    "Nothing special, the only condition is that columns have to have the same names (may be in different order).\n",
    "\n",
    "A useful tip is to use ``do.call`` in order to merge more than two data frames.\n",
    "``do.call`` is a function that applies a function to a list of elements."
   ]
  },
  {
   "cell_type": "code",
   "execution_count": 7,
   "metadata": {
    "collapsed": false
   },
   "outputs": [
    {
     "data": {
      "text/html": [
       "234660"
      ],
      "text/latex": [
       "234660"
      ],
      "text/markdown": [
       "234660"
      ],
      "text/plain": [
       "[1] 234660"
      ]
     },
     "execution_count": 7,
     "metadata": {},
     "output_type": "execute_result"
    }
   ],
   "source": [
    "nrow(do.call(rbind, list(flightsUA,flightsAA,fligthsUAandAA)))"
   ]
  },
  {
   "cell_type": "markdown",
   "metadata": {},
   "source": [
    "This technique is really userfull when one want to populate a data frame within a loop.\n",
    "Each time we append a row to a dataframe within a row a new copy of a dataframe is stored in the memory :(\n",
    "So the solutions is to create a list of 1 row data frames and then merge them with ``do.call rbind`` combo.\n",
    "But since ``rbind``, as many native R functions, is slow and not memory-efficient, for large datasets one may want to use\n",
    "``rbindlist`` function from ``data.table`` package, which does the same, but faster."
   ]
  },
  {
   "cell_type": "code",
   "execution_count": 8,
   "metadata": {
    "collapsed": false
   },
   "outputs": [
    {
     "data": {
      "text/html": [
       "234660"
      ],
      "text/latex": [
       "234660"
      ],
      "text/markdown": [
       "234660"
      ],
      "text/plain": [
       "[1] 234660"
      ]
     },
     "execution_count": 8,
     "metadata": {},
     "output_type": "execute_result"
    }
   ],
   "source": [
    "nrow(rbindlist(list(flightsUA,flightsAA,fligthsUAandAA)))"
   ]
  },
  {
   "cell_type": "code",
   "execution_count": null,
   "metadata": {
    "collapsed": true
   },
   "outputs": [],
   "source": []
  },
  {
   "cell_type": "code",
   "execution_count": null,
   "metadata": {
    "collapsed": false
   },
   "outputs": [],
   "source": [
    "flights %>% group_by(origin) %>%\n",
    "  summarise(avgDepDelay = mean(dep_delay, na.rm = TRUE)) %>%\n",
    "  arrange(desc(avgDepDelay)) "
   ]
  },
  {
   "cell_type": "code",
   "execution_count": null,
   "metadata": {
    "collapsed": true
   },
   "outputs": [],
   "source": []
  },
  {
   "cell_type": "code",
   "execution_count": null,
   "metadata": {
    "collapsed": true
   },
   "outputs": [],
   "source": []
  },
  {
   "cell_type": "code",
   "execution_count": null,
   "metadata": {
    "collapsed": true
   },
   "outputs": [],
   "source": []
  },
  {
   "cell_type": "code",
   "execution_count": null,
   "metadata": {
    "collapsed": true
   },
   "outputs": [],
   "source": []
  }
 ],
 "metadata": {
  "anaconda-cloud": {},
  "kernelspec": {
   "display_name": "R",
   "language": "R",
   "name": "ir"
  },
  "language_info": {
   "codemirror_mode": "r",
   "file_extension": ".r",
   "mimetype": "text/x-r-source",
   "name": "R",
   "pygments_lexer": "r",
   "version": "3.1.3"
  }
 },
 "nbformat": 4,
 "nbformat_minor": 0
}
